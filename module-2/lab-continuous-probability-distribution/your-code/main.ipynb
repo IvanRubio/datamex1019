{
 "cells": [
  {
   "cell_type": "markdown",
   "metadata": {},
   "source": [
    "# Before your start:\n",
    "\n",
    "    Read the README.md file\n",
    "    Comment as much as you can and use the resources (README.md file)\n",
    "    Happy learning!"
   ]
  },
  {
   "cell_type": "markdown",
   "metadata": {},
   "source": [
    "In this exercise, we  will generate random numbers from the continuous disributions we learned in the lesson. There are two ways to generate random numbers:\n",
    "\n",
    "1. Using the numpy library \n",
    "1. using the Scipy library \n",
    "\n",
    "Use either or both of the lbraries in this exercise."
   ]
  },
  {
   "cell_type": "markdown",
   "metadata": {},
   "source": [
    "## Uniform Distribution\n",
    "\n",
    "To generate uniform random numbers between any two given values using scipy, we can either use the following code or the code that we have\n",
    "discussed in class:"
   ]
  },
  {
   "cell_type": "code",
   "execution_count": 29,
   "metadata": {},
   "outputs": [
    {
     "name": "stdout",
     "output_type": "stream",
     "text": [
      "[0.19757037 0.97302879 0.02668692 0.48816188 0.49822    0.83286761\n",
      " 0.5959155  0.01423657 0.46375801 0.7621793 ]\n"
     ]
    }
   ],
   "source": [
    "from scipy.stats import uniform\n",
    "x = uniform.rvs(size=10)\n",
    "a = 2\n",
    "b = 3\n",
    "randoms  = a + (b-a)*x\n",
    "print(randoms)"
   ]
  },
  {
   "cell_type": "markdown",
   "metadata": {},
   "source": [
    "**Your task:**\n",
    "\n",
    "1. Based on the code above, write a function that generates uniformly distributed random numbers. There are several requirements for your function:\n",
    "    * It should accept 3 parameters: \n",
    "        * `bottom` - the lower boundary of the generated numbers\n",
    "        * `ceiling` - the upper boundary of the generated numbers\n",
    "        * `count` - how many numbers to generate\n",
    "    * It should return an array of uniformly distributed random numbers\n",
    "\n",
    "1. Call your function with 2 sets of params below:\n",
    "    * bottom=10, ceiling=15, count=100\n",
    "    * bottom=10, ceiling=60, count=1,000\n",
    "\n",
    "1. Plot the uniform distributions generated above using histograms, where x axis is the value and y axis is the count. Let the histogram's number of bins be 10.\n",
    "\n",
    "Your output should look like below:\n",
    "\n",
    "![uniform distribution](ud.png)"
   ]
  },
  {
   "cell_type": "code",
   "execution_count": 53,
   "metadata": {},
   "outputs": [
    {
     "data": {
      "text/plain": [
       "(array([100130.,  99964., 100170.,  99594., 100012.,  99285.,  99880.,\n",
       "        100682.,  99836., 100447.]),\n",
       " array([100.0000073 , 106.99998504, 113.99996277, 120.99994051,\n",
       "        127.99991825, 134.99989598, 141.99987372, 148.99985145,\n",
       "        155.99982919, 162.99980692, 169.99978466]),\n",
       " <a list of 10 Patch objects>)"
      ]
     },
     "execution_count": 53,
     "metadata": {},
     "output_type": "execute_result"
    },
    {
     "data": {
      "image/png": "[encoded data removed]",
      "text/plain": [
       "<Figure size 432x288 with 1 Axes>"
      ]
     },
     "metadata": {
      "needs_background": "light"
     },
     "output_type": "display_data"
    }
   ],
   "source": [
    "# your code here\n",
    "def uniforme(bottom, ceiling, count):\n",
    "    return uniform.rvs(loc=bottom,scale=ceiling,size=count)\n",
    "\n",
    "plt.hist(uniforme(100, 70, 100))\n",
    "plt.hist(uniforme(100, 70, 1000))\n"
   ]
  },
  {
   "cell_type": "code",
   "execution_count": 39,
   "metadata": {},
   "outputs": [
    {
     "data": {
      "text/plain": [
       "(array([994.,   0.,   0.,   0.,   0.,   0.,   0.,   0.,   0.,   6.]),\n",
       " array([0.  , 0.02, 0.04, 0.06, 0.08, 0.1 , 0.12, 0.14, 0.16, 0.18, 0.2 ]),\n",
       " <a list of 10 Patch objects>)"
      ]
     },
     "execution_count": 39,
     "metadata": {},
     "output_type": "execute_result"
    },
    {
     "data": {
      "image/png": "[encoded data removed]",
      "text/plain": [
       "<Figure size 432x288 with 1 Axes>"
      ]
     },
     "metadata": {
      "needs_background": "light"
     },
     "output_type": "display_data"
    }
   ],
   "source": [
    "plt.hist(uniform.pdf(range(1000),loc=100,scale=5))"
   ]
  },
  {
   "cell_type": "markdown",
   "metadata": {},
   "source": [
    "How are the two distributions different?"
   ]
  },
  {
   "cell_type": "code",
   "execution_count": null,
   "metadata": {},
   "outputs": [],
   "source": [
    "# your answer below\n",
    "#no, son la misma pero una tiene más muestras que la otra"
   ]
  },
  {
   "cell_type": "markdown",
   "metadata": {},
   "source": [
    "## Normal Distribution\n",
    "\n",
    "1. In the same way in the Uniform Distribution challenge, write a function that generates normally distributed random numbers.\n",
    "1. Generate 1,000 normally distributed numbers with the average of 10 and standard deviation of 1\n",
    "1. Generate 1,000 normally distributed numbers with the average of 10 and standard deviation of 50\n",
    "2. Plot the distributions of the data generated.\n",
    "\n",
    "Expected output:\n",
    "\n",
    "![normal distribution](nd.png)"
   ]
  },
  {
   "cell_type": "code",
   "execution_count": 72,
   "metadata": {},
   "outputs": [
    {
     "data": {
      "text/plain": [
       "(array([ 1.,  0.,  0.,  0.,  2.,  0.,  1.,  2.,  3.,  6.,  7.,  7.,  7.,\n",
       "        11., 16., 21., 18., 36., 22., 30., 31., 40., 40., 34., 53., 60.,\n",
       "        43., 40., 45., 49., 52., 33., 32., 35., 37., 32., 22., 25., 18.,\n",
       "        20., 12., 17.,  8.,  7.,  8.,  5.,  2.,  5.,  2.,  3.]),\n",
       " array([ 6.7886558 ,  6.90656913,  7.02448245,  7.14239578,  7.26030911,\n",
       "         7.37822243,  7.49613576,  7.61404909,  7.73196241,  7.84987574,\n",
       "         7.96778907,  8.08570239,  8.20361572,  8.32152905,  8.43944237,\n",
       "         8.5573557 ,  8.67526903,  8.79318235,  8.91109568,  9.02900901,\n",
       "         9.14692233,  9.26483566,  9.38274899,  9.50066231,  9.61857564,\n",
       "         9.73648897,  9.85440229,  9.97231562, 10.09022895, 10.20814227,\n",
       "        10.3260556 , 10.44396893, 10.56188225, 10.67979558, 10.79770891,\n",
       "        10.91562223, 11.03353556, 11.15144889, 11.26936221, 11.38727554,\n",
       "        11.50518887, 11.62310219, 11.74101552, 11.85892885, 11.97684217,\n",
       "        12.0947555 , 12.21266883, 12.33058215, 12.44849548, 12.56640881,\n",
       "        12.68432213]),\n",
       " <a list of 50 Patch objects>)"
      ]
     },
     "execution_count": 72,
     "metadata": {},
     "output_type": "execute_result"
    },
    {
     "data": {
      "image/png": "[encoded data removed]",
      "text/plain": [
       "<Figure size 432x288 with 2 Axes>"
      ]
     },
     "metadata": {
      "needs_background": "light"
     },
     "output_type": "display_data"
    },
    {
     "data": {
      "image/png": "[encoded data removed]",
      "text/plain": [
       "<Figure size 432x288 with 2 Axes>"
      ]
     },
     "metadata": {
      "needs_background": "light"
     },
     "output_type": "display_data"
    }
   ],
   "source": [
    "# your code here\n",
    "from scipy.stats import norm\n",
    "import numpy as np\n",
    "import matplotlib.pyplot as plt\n",
    "%matplotlib inline\n",
    "\n",
    "def normal(mu, sigma, cant):\n",
    "    n = np.random.normal(mu, sigma, cant)\n",
    "    return n\n",
    "\n",
    "#plt.plot(normal(10,1));\n",
    "#plt.plot(normal(10,50));\n",
    "\n",
    "#hacer subplots\n",
    "fig,axes =plt.subplots(nrows=1,ncols=2)\n",
    "axes[0].hist(normal(10,1,1000), bins=50 )\n",
    "\n",
    "fig,axes =plt.subplots(nrows=1,ncols=2)\n",
    "axes[1].hist(normal(10,1,1000), bins=50 )\n"
   ]
  },
  {
   "cell_type": "markdown",
   "metadata": {},
   "source": [
    "How are the two distributions different?"
   ]
  },
  {
   "cell_type": "code",
   "execution_count": null,
   "metadata": {},
   "outputs": [],
   "source": [
    "# your answer below\n",
    "#No, parecen iguales"
   ]
  },
  {
   "cell_type": "markdown",
   "metadata": {},
   "source": [
    "## Normal Distribution of Real Data\n",
    "\n",
    "In this challenge we are going to take a look the real data. We will use vehicles.csv file for this exercise"
   ]
  },
  {
   "cell_type": "markdown",
   "metadata": {},
   "source": [
    "First import vehicles.csv.\n",
    "Then plot the histograms for the following variables:\n",
    "\n",
    "1. Fuel Barrels/Year"
   ]
  },
  {
   "cell_type": "code",
   "execution_count": 61,
   "metadata": {},
   "outputs": [
    {
     "data": {
      "text/plain": [
       "(array([8.1000e+01, 3.7400e+02, 6.7650e+03, 1.7039e+04, 8.9660e+03,\n",
       "        2.0960e+03, 5.6900e+02, 3.6000e+01, 2.1000e+01, 5.0000e+00]),\n",
       " array([ 0.06      ,  4.76271429,  9.46542857, 14.16814286, 18.87085714,\n",
       "        23.57357143, 28.27628571, 32.979     , 37.68171429, 42.38442857,\n",
       "        47.08714286]),\n",
       " <a list of 10 Patch objects>)"
      ]
     },
     "execution_count": 61,
     "metadata": {},
     "output_type": "execute_result"
    },
    {
     "data": {
      "image/png": "[encoded data removed]",
      "text/plain": [
       "<Figure size 432x288 with 1 Axes>"
      ]
     },
     "metadata": {
      "needs_background": "light"
     },
     "output_type": "display_data"
    }
   ],
   "source": [
    "# your code here\n",
    "import pandas as pd\n",
    "ve=pd.read_csv('vehicles.csv')\n",
    "#ve.head()\n",
    "plt.hist(ve['Fuel Barrels/Year'])\n",
    "#así se saca la media\n",
    "ve['Fuel Barrels/Year'].mean()\n"
   ]
  },
  {
   "cell_type": "markdown",
   "metadata": {},
   "source": [
    "2. CO2 Emission Grams/Mile "
   ]
  },
  {
   "cell_type": "code",
   "execution_count": 24,
   "metadata": {},
   "outputs": [
    {
     "data": {
      "text/plain": [
       "(array([3.4000e+01, 8.3200e+02, 1.0205e+04, 1.5411e+04, 6.8250e+03,\n",
       "        2.0100e+03, 5.7300e+02, 3.6000e+01, 2.1000e+01, 5.0000e+00]),\n",
       " array([  37.        ,  160.25714286,  283.51428571,  406.77142857,\n",
       "         530.02857143,  653.28571429,  776.54285714,  899.8       ,\n",
       "        1023.05714286, 1146.31428571, 1269.57142857]),\n",
       " <a list of 10 Patch objects>)"
      ]
     },
     "execution_count": 24,
     "metadata": {},
     "output_type": "execute_result"
    },
    {
     "data": {
      "image/png": "[encoded data removed]",
      "text/plain": [
       "<Figure size 432x288 with 1 Axes>"
      ]
     },
     "metadata": {
      "needs_background": "light"
     },
     "output_type": "display_data"
    }
   ],
   "source": [
    "# your code here\n",
    "plt.hist(ve['CO2 Emission Grams/Mile'])"
   ]
  },
  {
   "cell_type": "markdown",
   "metadata": {},
   "source": [
    "3. Combined MPG"
   ]
  },
  {
   "cell_type": "code",
   "execution_count": 25,
   "metadata": {},
   "outputs": [
    {
     "data": {
      "text/plain": [
       "(array([6.3800e+02, 8.4990e+03, 1.5512e+04, 7.9320e+03, 2.4160e+03,\n",
       "        6.3600e+02, 2.1000e+02, 6.5000e+01, 3.3000e+01, 1.1000e+01]),\n",
       " array([ 7. , 11.9, 16.8, 21.7, 26.6, 31.5, 36.4, 41.3, 46.2, 51.1, 56. ]),\n",
       " <a list of 10 Patch objects>)"
      ]
     },
     "execution_count": 25,
     "metadata": {},
     "output_type": "execute_result"
    },
    {
     "data": {
      "image/png": "[encoded data removed]",
      "text/plain": [
       "<Figure size 432x288 with 1 Axes>"
      ]
     },
     "metadata": {
      "needs_background": "light"
     },
     "output_type": "display_data"
    }
   ],
   "source": [
    "# your code here\n",
    "plt.hist(ve['Combined MPG'])"
   ]
  },
  {
   "cell_type": "markdown",
   "metadata": {},
   "source": [
    "Which one(s) of the variables are nearly normally distributed? How do you know?"
   ]
  },
  {
   "cell_type": "code",
   "execution_count": null,
   "metadata": {},
   "outputs": [],
   "source": [
    "# your answer here\n",
    "#Las gráficas de las tres variables tienen forma de distribución normal"
   ]
  },
  {
   "cell_type": "markdown",
   "metadata": {},
   "source": [
    "## Exponential Distribution"
   ]
  },
  {
   "cell_type": "markdown",
   "metadata": {},
   "source": [
    "1. Using `numpy.random.exponential`, create a function that returns a list of numbers exponentially distributed with the mean of 10. \n",
    "\n",
    "1. Use the function to generate two number sequences with the size of 1 and 100.\n",
    "\n",
    "1. Plot the distributions as histograms with the nubmer of bins as 100.\n",
    "\n",
    "Your output should look like below:\n",
    "\n",
    "![exponential distribution](ed.png)"
   ]
  },
  {
   "cell_type": "code",
   "execution_count": 74,
   "metadata": {},
   "outputs": [
    {
     "data": {
      "text/plain": [
       "(array([8., 5., 9., 7., 7., 8., 5., 4., 5., 1., 2., 2., 5., 0., 6., 2., 2.,\n",
       "        3., 1., 2., 4., 1., 1., 2., 0., 1., 0., 1., 1., 0., 2., 0., 1., 1.,\n",
       "        0., 0., 0., 0., 0., 0., 0., 0., 0., 0., 0., 0., 0., 0., 0., 1.]),\n",
       " array([2.50913163e-04, 9.18907042e-03, 1.81272277e-02, 2.70653849e-02,\n",
       "        3.60035422e-02, 4.49416994e-02, 5.38798567e-02, 6.28180139e-02,\n",
       "        7.17561712e-02, 8.06943284e-02, 8.96324857e-02, 9.85706429e-02,\n",
       "        1.07508800e-01, 1.16446957e-01, 1.25385115e-01, 1.34323272e-01,\n",
       "        1.43261429e-01, 1.52199586e-01, 1.61137744e-01, 1.70075901e-01,\n",
       "        1.79014058e-01, 1.87952215e-01, 1.96890373e-01, 2.05828530e-01,\n",
       "        2.14766687e-01, 2.23704844e-01, 2.32643002e-01, 2.41581159e-01,\n",
       "        2.50519316e-01, 2.59457473e-01, 2.68395631e-01, 2.77333788e-01,\n",
       "        2.86271945e-01, 2.95210103e-01, 3.04148260e-01, 3.13086417e-01,\n",
       "        3.22024574e-01, 3.30962732e-01, 3.39900889e-01, 3.48839046e-01,\n",
       "        3.57777203e-01, 3.66715361e-01, 3.75653518e-01, 3.84591675e-01,\n",
       "        3.93529832e-01, 4.02467990e-01, 4.11406147e-01, 4.20344304e-01,\n",
       "        4.29282461e-01, 4.38220619e-01, 4.47158776e-01]),\n",
       " <a list of 50 Patch objects>)"
      ]
     },
     "execution_count": 74,
     "metadata": {},
     "output_type": "execute_result"
    },
    {
     "data": {
      "image/png": "[encoded data removed]",
      "text/plain": [
       "<Figure size 432x288 with 2 Axes>"
      ]
     },
     "metadata": {
      "needs_background": "light"
     },
     "output_type": "display_data"
    }
   ],
   "source": [
    "# your code here\n",
    "def expo(n):\n",
    "    e=[]\n",
    "    for x in range(n):  \n",
    "        e.append(np.random.exponential(1/10))\n",
    "    return e\n",
    "\n",
    "# Use the function to generate two number sequences with the size of 1 and 100.\n",
    "seq1=expo(1)\n",
    "seq2=expo(100)\n",
    "# Plot the distributions as histograms with the nubmer of bins as 100.\n",
    "\n",
    "fig,axes =plt.subplots(nrows=1,ncols=2)\n",
    "axes[0].hist(expo(1), bins=50 )\n",
    "axes[1].hist(expo(100), bins=50 )"
   ]
  },
  {
   "cell_type": "markdown",
   "metadata": {},
   "source": [
    "How are the two distributions different?"
   ]
  },
  {
   "cell_type": "code",
   "execution_count": null,
   "metadata": {},
   "outputs": [],
   "source": [
    "# your answer here"
   ]
  },
  {
   "cell_type": "markdown",
   "metadata": {},
   "source": [
    "## Exponential Distribution of Real Data\n",
    "\n",
    "Suppose that the amount of time one spends in a bank is exponentially distributed with mean as 10 minutes (i.e. λ = 1/10). What is the probability that a customer will spend less than fifteen minutes in the bank? \n",
    "\n",
    "Write a code in python to solve this problem"
   ]
  },
  {
   "cell_type": "code",
   "execution_count": 35,
   "metadata": {},
   "outputs": [
    {
     "name": "stdout",
     "output_type": "stream",
     "text": [
      "0.9999996940976795\n"
     ]
    }
   ],
   "source": [
    "# your answer here\n",
    "# Hint: This is same as saying P(x<15)\n",
    "from scipy.stats import expon\n",
    "e15=expon.cdf(15)\n",
    "print(e15)"
   ]
  },
  {
   "cell_type": "markdown",
   "metadata": {},
   "source": [
    "What is the probability that the customer will spend more than 15 minutes"
   ]
  },
  {
   "cell_type": "code",
   "execution_count": null,
   "metadata": {},
   "outputs": [],
   "source": [
    "# your answer here"
   ]
  },
  {
   "cell_type": "code",
   "execution_count": 36,
   "metadata": {},
   "outputs": [
    {
     "name": "stdout",
     "output_type": "stream",
     "text": [
      "3.059023204743383e-07\n"
     ]
    }
   ],
   "source": [
    "print(1-e15)"
   ]
  }
 ],
 "metadata": {
  "kernelspec": {
   "display_name": "Python 3",
   "language": "python",
   "name": "python3"
  },
  "language_info": {
   "codemirror_mode": {
    "name": "ipython",
    "version": 3
   },
   "file_extension": ".py",
   "mimetype": "text/x-python",
   "name": "python",
   "nbconvert_exporter": "python",
   "pygments_lexer": "ipython3",
   "version": "3.7.3"
  }
 },
 "nbformat": 4,
 "nbformat_minor": 2
}
