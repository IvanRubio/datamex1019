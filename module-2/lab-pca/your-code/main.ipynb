{
 "cells": [
  {
   "cell_type": "markdown",
   "metadata": {},
   "source": [
    "# Before your start:\n",
    "- Read the README.md file\n",
    "- Comment as much as you can and use the resources (README.md file)\n",
    "- Happy learning!"
   ]
  },
  {
   "cell_type": "code",
   "execution_count": 42,
   "metadata": {},
   "outputs": [],
   "source": [
    "# Run this code:\n",
    "%matplotlib inline\n",
    "\n",
    "import matplotlib.pyplot as plt"
   ]
  },
  {
   "cell_type": "code",
   "execution_count": 44,
   "metadata": {},
   "outputs": [],
   "source": [
    "# Import numpy and pandas:\n",
    "import pandas as pd\n",
    "import numpy as np"
   ]
  },
  {
   "cell_type": "markdown",
   "metadata": {},
   "source": [
    "# Challenge 1 - Reading and Standardizing the Data\n",
    "\n",
    "In this challenge we will work with image data and reduce the dimensions of the data to create a 2 dimensional plot. While we have not worked much with image data before, it can be represented as a numpy array where each pixel is assigned a numeric value. In this lesson, we will look at a dataset of cats and a dataset of dogs and see whether reducing them to two dimensions allows us to see if the data is separable. We will start by loading and processing the data. Run the cell below to load the two csv files and convert them into numpy arrays."
   ]
  },
  {
   "cell_type": "code",
   "execution_count": 46,
   "metadata": {},
   "outputs": [],
   "source": [
    "# Run this code\n",
    "\n",
    "cats = np.array(pd.read_csv(\"../your-code/cat.csv\", header=None))\n",
    "dogs = np.array(pd.read_csv(\"../your-code/dog.csv\", header=None))\n",
    "#aquí descargué los archivos porque no pude leerlos de la URL"
   ]
  },
  {
   "cell_type": "markdown",
   "metadata": {},
   "source": [
    "Next, we'll examine the shape of both the cats and the dogs arrays. Print out both shapes below."
   ]
  },
  {
   "cell_type": "code",
   "execution_count": 48,
   "metadata": {},
   "outputs": [
    {
     "name": "stdout",
     "output_type": "stream",
     "text": [
      "(4096, 80)\n",
      "(4096, 80)\n"
     ]
    }
   ],
   "source": [
    "# Your code here:\n",
    "print(dogs.shape)\n",
    "print(cats.shape)"
   ]
  },
  {
   "cell_type": "markdown",
   "metadata": {},
   "source": [
    "What this means is that both arrays contain 80 images each (the number of columns). Each image is comprised of 64x64 pixels (so a total of 4096 pixels per image). The images have been flattened such that all 4096 are in a single row.\n",
    "\n",
    "Print out column 0 of the cats array to see what the pixels values look like."
   ]
  },
  {
   "cell_type": "code",
   "execution_count": 49,
   "metadata": {},
   "outputs": [
    {
     "name": "stdout",
     "output_type": "stream",
     "text": [
      "[ 64  23 250 137  55 173  18 134  19  47 109 164  41  78 108 108 247 105\n",
      " 158  54 103   4  23 102 239  72  42  21 168 109 112 177  22 233  15 236\n",
      " 250 137  32   5 178 109  24 107  53 241 226 143   5 136  98 100  89  66\n",
      " 228  92 255  88 230  56 160  69   6  24 195 183 239  35 154 154 122  18\n",
      "  87 106 174  69  28  60 223 101]\n"
     ]
    }
   ],
   "source": [
    "# Your code here:\n",
    "print(cats[0])"
   ]
  },
  {
   "cell_type": "markdown",
   "metadata": {},
   "source": [
    "Using `matplotlib` we can plot a single cat or a single dog. We do this by reshaping the vector back to a 64x64 image and then using the `imshow` function.\n",
    "\n",
    "Run the code below to look at the first dog and the first cat."
   ]
  },
  {
   "cell_type": "code",
   "execution_count": 50,
   "metadata": {},
   "outputs": [
    {
     "data": {
      "text/plain": [
       "<matplotlib.image.AxesImage at 0x7f0ac994cc50>"
      ]
     },
     "execution_count": 50,
     "metadata": {},
     "output_type": "execute_result"
    },
    {
     "data": {
      "image/png": "[encoded data removed]",
      "text/plain": [
       "<Figure size 432x288 with 1 Axes>"
      ]
     },
     "metadata": {
      "needs_background": "light"
     },
     "output_type": "display_data"
    }
   ],
   "source": [
    "# Run this code:\n",
    "\n",
    "fig, ax = plt.subplots()\n",
    "ax.imshow(cats[:,0].reshape(64, 64).T, cmap=plt.cm.bone, interpolation='nearest') "
   ]
  },
  {
   "cell_type": "code",
   "execution_count": 51,
   "metadata": {},
   "outputs": [
    {
     "data": {
      "text/plain": [
       "<matplotlib.image.AxesImage at 0x7f0ac9257588>"
      ]
     },
     "execution_count": 51,
     "metadata": {},
     "output_type": "execute_result"
    },
    {
     "data": {
      "image/png": "[encoded data removed]",
      "text/plain": [
       "<Figure size 432x288 with 1 Axes>"
      ]
     },
     "metadata": {
      "needs_background": "light"
     },
     "output_type": "display_data"
    }
   ],
   "source": [
    "# Run this code:\n",
    "\n",
    "fig, ax = plt.subplots()\n",
    "ax.imshow(dogs[:,0].reshape(64, 64).T, cmap=plt.cm.bone, interpolation='nearest') "
   ]
  },
  {
   "cell_type": "markdown",
   "metadata": {},
   "source": [
    "Next, we would like to create a standardization function. This function will find the mean and standard deviation of each image. We subtract the mean from each pixel and divide each pixel by the standard deviation. Write the function below.\n",
    "\n",
    "Hint: To find the mean and standard deviation of each image, use `numpy`'s version of mean and stadnard deviation and use `axis=0`."
   ]
  },
  {
   "cell_type": "code",
   "execution_count": 63,
   "metadata": {},
   "outputs": [
    {
     "data": {
      "text/plain": [
       "array([[ 63.07760703,  21.07593251, 249.20280934, ...,  56.65328032,\n",
       "        220.53552633,  98.28376397],\n",
       "       [ 63.07760703,  21.07593251, 249.20280934, ...,  46.65328032,\n",
       "        221.53552633, 104.28376397],\n",
       "       [ 63.07760703,  18.07593251, 249.20280934, ...,  59.65328032,\n",
       "        222.53552633, 103.28376397],\n",
       "       ...,\n",
       "       [ 63.07760703,  29.07593251, 243.20280934, ..., 101.65328032,\n",
       "        177.53552633, 111.28376397],\n",
       "       [ 63.07760703,  21.07593251, 231.20280934, ..., 114.65328032,\n",
       "        179.53552633,  88.28376397],\n",
       "       [ 60.07760703,   7.07593251, 243.20280934, ..., 100.65328032,\n",
       "        174.53552633, 110.28376397]])"
      ]
     },
     "execution_count": 63,
     "metadata": {},
     "output_type": "execute_result"
    }
   ],
   "source": [
    "def standardize(x):\n",
    "    #This function takes as input a numpy array and returns a stadardized numpy array of the same dimensions.\n",
    "    #Sample input: np.array([[1,2,3],[4,5,6]])\n",
    "    #Sample output: np.array([[-1,-1,-1],[1,1,1]])\n",
    "    \n",
    "    # Your code here:\n",
    "    return (x-np.mean(x, axis=0)/np.std(x, axis=0))\n"
   ]
  },
  {
   "cell_type": "markdown",
   "metadata": {},
   "source": [
    "Now, use the `np.concatenate` function to combine the cats and dogs arrays. Use `axis=1` to combine the two correctly. Make sure to put dogs first."
   ]
  },
  {
   "cell_type": "code",
   "execution_count": 95,
   "metadata": {},
   "outputs": [
    {
     "name": "stdout",
     "output_type": "stream",
     "text": [
      "[[ 64  23 250 ...   6  30 197]\n",
      " [ 64  23 250 ...  10  69 199]\n",
      " [ 64  20 250 ...   6  69 195]\n",
      " ...\n",
      " [ 64  31 244 ...   7 163 166]\n",
      " [ 64  23 232 ...  10 140 170]\n",
      " [ 61   9 244 ...   7 140 171]]\n"
     ]
    },
    {
     "data": {
      "text/plain": [
       "(4096, 160)"
      ]
     },
     "execution_count": 95,
     "metadata": {},
     "output_type": "execute_result"
    }
   ],
   "source": [
    "# Your code here:\n",
    "concatenado=np.concatenate((cats, dogs), axis=1)\n",
    "print(concatenado)\n",
    "concatenado.shape"
   ]
  },
  {
   "cell_type": "markdown",
   "metadata": {},
   "source": [
    "Standardize the concatenated array below."
   ]
  },
  {
   "cell_type": "code",
   "execution_count": 96,
   "metadata": {},
   "outputs": [
    {
     "name": "stdout",
     "output_type": "stream",
     "text": [
      "[[ 63.07760703  21.07593251 249.20280934 ...   4.73235677  27.52602472\n",
      "  195.54343472]\n",
      " [ 63.07760703  21.07593251 249.20280934 ...   8.73235677  66.52602472\n",
      "  197.54343472]\n",
      " [ 63.07760703  18.07593251 249.20280934 ...   4.73235677  66.52602472\n",
      "  193.54343472]\n",
      " ...\n",
      " [ 63.07760703  29.07593251 243.20280934 ...   5.73235677 160.52602472\n",
      "  164.54343472]\n",
      " [ 63.07760703  21.07593251 231.20280934 ...   8.73235677 137.52602472\n",
      "  168.54343472]\n",
      " [ 60.07760703   7.07593251 243.20280934 ...   5.73235677 137.52602472\n",
      "  169.54343472]]\n"
     ]
    },
    {
     "data": {
      "text/plain": [
       "(4096, 160)"
      ]
     },
     "execution_count": 96,
     "metadata": {},
     "output_type": "execute_result"
    }
   ],
   "source": [
    "# Your code here:\n",
    "normalizado=standardize(concatenado)\n",
    "print(normalizado)\n",
    "normalizado.shape"
   ]
  },
  {
   "cell_type": "markdown",
   "metadata": {},
   "source": [
    "# Challenge 2 - Using PCA\n",
    "\n",
    "Now that we have created a standardized matrix of cats and dogs, we'll find the two most important components in the data.\n",
    "\n",
    "Load the `PCA` function from `statsmodels` (read about this function [here](https://www.statsmodels.org/dev/generated/statsmodels.multivariate.pca.PCA.html)) and apply the function to our standarized data. Create a PCA model with two components."
   ]
  },
  {
   "cell_type": "code",
   "execution_count": 105,
   "metadata": {},
   "outputs": [
    {
     "name": "stdout",
     "output_type": "stream",
     "text": [
      "Principal Component Analysis(nobs: 4096, nvar: 160, transformation: Standardize (Correlation), normalization: True, number of components: 2, SVD)\n"
     ]
    }
   ],
   "source": [
    "# Your code here:\n",
    "from statsmodels.multivariate.pca import PCA\n",
    "pca=PCA(normalizado, ncomp=2)\n",
    "print(pca)"
   ]
  },
  {
   "cell_type": "markdown",
   "metadata": {},
   "source": [
    "Use `numpy` to find to transpose the standardized pet array. This will help us compute the projection."
   ]
  },
  {
   "cell_type": "code",
   "execution_count": 108,
   "metadata": {},
   "outputs": [
    {
     "data": {
      "text/plain": [
       "(160, 4096)"
      ]
     },
     "execution_count": 108,
     "metadata": {},
     "output_type": "execute_result"
    }
   ],
   "source": [
    "# Your code here:\n",
    "trans=np.transpose(normalizado)\n",
    "trans.shape\n",
    "#print(trans)"
   ]
  },
  {
   "cell_type": "markdown",
   "metadata": {},
   "source": [
    "Find the dot product of the transposed standardized pet matrix and the `factors` of the `PCA` model found above. This will be the projection onto 2 dimensions. This means that each cat and dog image will now only have two columns instead of 4096."
   ]
  },
  {
   "cell_type": "code",
   "execution_count": 111,
   "metadata": {},
   "outputs": [
    {
     "name": "stdout",
     "output_type": "stream",
     "text": [
      "[[-9.94754255e+02  9.03485200e+02]\n",
      " [-2.73570451e+03  5.61750087e+01]\n",
      " [ 4.63458933e+03  3.61104631e+02]\n",
      " [ 1.76181987e+03 -5.73966572e+01]\n",
      " [-1.73377413e+03  1.00564199e+03]\n",
      " [-1.29971013e+03  2.05069503e+03]\n",
      " [-2.31736914e+03 -1.66045638e+02]\n",
      " [-2.67251645e+02  8.70756856e+02]\n",
      " [-2.91566631e+03  5.24390491e+02]\n",
      " [-1.60537871e+03  1.31401756e+03]\n",
      " [ 3.14117292e+00  2.24755110e+02]\n",
      " [ 3.12346390e+02  2.39289306e+02]\n",
      " [-3.49729928e+03  6.68607415e+02]\n",
      " [-1.70685958e+03  6.70160891e+02]\n",
      " [ 1.81563789e+03  8.64443999e+02]\n",
      " [-1.19834225e+03  5.03236523e+02]\n",
      " [ 1.51130944e+03  5.69273731e+02]\n",
      " [-1.81278138e+03  5.71293429e+02]\n",
      " [ 2.25549776e+03 -4.16394491e+01]\n",
      " [-2.73963215e+03  2.67438206e+02]\n",
      " [ 6.26522058e+02  6.97331946e+02]\n",
      " [-2.67464618e+03 -1.40474743e+02]\n",
      " [-2.10277070e+03 -7.72038427e+02]\n",
      " [-1.81872454e+03 -1.71620269e+03]\n",
      " [ 3.75799397e+03  4.28097832e+02]\n",
      " [-3.89661583e+02 -1.19895187e+03]\n",
      " [-1.65538538e+03  8.52986731e+02]\n",
      " [-2.03605940e+03 -1.17284599e+03]\n",
      " [ 1.11097266e+03  1.29905716e+02]\n",
      " [-9.84314984e+02  4.90686409e+02]\n",
      " [-1.08648002e+02  7.39169458e+02]\n",
      " [ 9.47393093e+02  1.18202286e+03]\n",
      " [-1.14053759e+03  1.82908696e+03]\n",
      " [ 4.76437885e+03  1.00658381e+03]\n",
      " [-2.43698204e+03 -9.96663720e+01]\n",
      " [-3.51510302e+02 -5.53441844e+02]\n",
      " [ 3.37893357e+03 -1.28439973e+02]\n",
      " [-2.37303453e+03  4.36034354e+02]\n",
      " [-1.20785173e+03 -1.17287679e+03]\n",
      " [-7.56587931e+02  6.97744848e+02]\n",
      " [-3.41052236e+02  9.06827562e+02]\n",
      " [-2.18254060e+03  1.45932195e+03]\n",
      " [-3.30565894e+03 -8.80714091e+02]\n",
      " [-1.37094897e+03 -8.82329924e+02]\n",
      " [-3.95830155e+03 -1.43683385e+03]\n",
      " [ 1.11801060e+03  4.97679913e+02]\n",
      " [ 1.16703954e+03 -1.54487930e+02]\n",
      " [ 2.15227513e+03  7.42994051e+02]\n",
      " [-3.47746718e+03 -3.35770141e+02]\n",
      " [ 4.31404386e+01  3.04358416e+02]\n",
      " [-1.66738729e+03  1.00946597e+03]\n",
      " [-6.76326820e+02 -5.01979237e+02]\n",
      " [-2.59497244e+03  8.76469479e+02]\n",
      " [-2.25709808e+03  8.28904260e+02]\n",
      " [ 8.53902583e+02  9.41474299e+02]\n",
      " [-1.69545793e+03  7.81421493e+02]\n",
      " [-3.07050630e+03  1.86492748e+03]\n",
      " [-9.20687852e+02 -4.36356160e+02]\n",
      " [ 1.64657328e+03  1.38372228e+03]\n",
      " [-1.08167911e+03 -1.70092158e+03]\n",
      " [-6.68614358e+01 -4.63347981e+01]\n",
      " [-8.30102733e+02  5.50949923e+02]\n",
      " [-2.28644372e+03  6.05872821e+02]\n",
      " [-2.42877032e+03 -6.33141916e+02]\n",
      " [ 1.57871399e+03  1.50043833e+02]\n",
      " [-3.65627766e+02  9.59818551e+02]\n",
      " [ 3.35902731e+03  5.05985541e+02]\n",
      " [-2.07585559e+02 -2.35410219e+01]\n",
      " [ 7.41277919e+02  2.18123386e+02]\n",
      " [ 1.78014246e+03 -2.50212089e+02]\n",
      " [ 7.10969726e+02  1.63074352e+02]\n",
      " [-1.95900152e+03 -6.70915224e+02]\n",
      " [-4.61408129e+02  6.06517054e+02]\n",
      " [ 8.30721946e+01 -1.58786160e+02]\n",
      " [ 6.94114498e+02 -4.13185453e+01]\n",
      " [-1.13155046e+03 -8.03172900e+02]\n",
      " [-1.82202908e+03 -1.31017557e+03]\n",
      " [-1.78189055e+03 -5.01002217e+02]\n",
      " [ 9.79438689e+02 -2.19814258e+02]\n",
      " [-3.24757931e+02  5.20265532e+02]\n",
      " [ 2.45092534e+03  8.49229456e+02]\n",
      " [ 2.31162520e+03 -1.38360502e+03]\n",
      " [-5.20219977e+02 -7.23229757e+02]\n",
      " [ 2.28569710e+02 -1.48191093e+03]\n",
      " [ 1.60927901e+03  2.01718485e+02]\n",
      " [-6.62353756e+02 -3.40569290e+03]\n",
      " [ 1.16277446e+03 -6.94593297e+02]\n",
      " [ 9.45766865e+02 -2.58170708e+03]\n",
      " [ 6.34248664e+02 -1.97877539e+03]\n",
      " [ 2.41337942e+03  1.34935920e+02]\n",
      " [ 1.94901056e+01 -1.97685766e+03]\n",
      " [ 7.27221156e+02 -5.89667675e+02]\n",
      " [ 3.47290008e+02 -6.82806811e+02]\n",
      " [-1.00246779e+02 -5.89207051e+02]\n",
      " [ 1.24226424e+03 -2.05972774e+03]\n",
      " [ 7.69241876e+02 -1.46999987e+03]\n",
      " [ 8.62084432e+02 -4.47172701e+02]\n",
      " [ 2.18133175e+03 -1.18696897e+03]\n",
      " [ 8.17666157e+02 -1.27662930e+03]\n",
      " [ 1.02189164e+03 -2.93855648e+03]\n",
      " [-2.23630910e+02 -2.20851317e+03]\n",
      " [ 1.20099992e+02 -2.85116937e+03]\n",
      " [ 5.32869455e+02 -8.28456247e+02]\n",
      " [ 8.60879266e+02 -2.96598053e+03]\n",
      " [ 1.79390802e+03 -2.02916314e+03]\n",
      " [ 1.77626193e+01 -3.38284320e+03]\n",
      " [-1.94591001e+02 -1.51086992e+03]\n",
      " [ 4.21500571e+01 -1.08166688e+03]\n",
      " [ 1.04601821e+03 -3.64102410e+03]\n",
      " [ 5.91764511e+02 -1.50698697e+03]\n",
      " [ 2.76064744e+02 -1.76647674e+03]\n",
      " [ 4.36242810e+02 -1.59386315e+03]\n",
      " [ 1.89297158e+03 -1.83828581e+03]\n",
      " [ 8.23852481e+02 -2.21468888e+03]\n",
      " [-6.31941905e+02 -3.32374032e+03]\n",
      " [ 9.44116856e+02 -8.84578254e+02]\n",
      " [-5.92753876e+02 -1.58237928e+03]\n",
      " [ 8.28343188e+01 -1.86013254e+03]\n",
      " [-4.46011916e+02 -2.91943117e+03]\n",
      " [ 1.84204147e+03 -1.22367484e+03]\n",
      " [ 9.76009718e+02 -2.29709673e+03]\n",
      " [ 3.34930265e+02  4.86909315e+02]\n",
      " [-5.59312237e+02 -1.82447375e+03]\n",
      " [ 9.33098492e+02 -1.66650942e+03]\n",
      " [-4.84409709e+02 -9.69499265e+02]\n",
      " [ 1.28809439e+03  1.42677190e+03]\n",
      " [ 2.16363573e+03  6.83769738e+02]\n",
      " [ 4.07508324e+02 -4.68791780e+02]\n",
      " [ 1.12436450e+03  8.69981573e+02]\n",
      " [-1.05756013e+03 -2.20623388e+03]\n",
      " [ 1.57993926e+03  5.93690534e+02]\n",
      " [ 2.05904640e+03  1.50271373e+03]\n",
      " [ 1.99895301e+02  4.94916255e+02]\n",
      " [-1.25294692e+03 -2.31197985e+03]\n",
      " [-9.43367180e+02 -2.17276225e+02]\n",
      " [-9.77760057e+02 -2.61759944e+02]\n",
      " [ 1.39904058e+03  2.98939841e+02]\n",
      " [ 6.20946132e+02  5.09915088e+02]\n",
      " [-1.18169454e+03 -1.90803885e+03]\n",
      " [-1.00404647e+02 -1.47027369e+03]\n",
      " [ 4.34910190e+02 -2.19737461e+03]\n",
      " [ 1.33910605e+03  9.27132788e+02]\n",
      " [ 1.99058944e+03  3.53926202e+02]\n",
      " [-1.00885229e+03  1.29435793e+02]\n",
      " [-7.21122109e+02 -6.01393384e+02]\n",
      " [ 1.64850099e+03 -7.02262465e+00]\n",
      " [ 3.55431586e+02  1.53882486e+03]\n",
      " [-2.52155684e+03 -8.93836656e+02]\n",
      " [-1.74313094e+02 -2.47257745e+02]\n",
      " [ 1.36804497e+03 -1.74720728e+03]\n",
      " [-6.48881853e+02 -7.19387731e+02]\n",
      " [-5.76684102e+01 -1.82752385e+03]\n",
      " [ 1.82979486e+03 -1.75378921e+03]\n",
      " [-1.03477785e+03 -1.18360612e+03]\n",
      " [ 5.20746099e+02  1.26906782e+03]\n",
      " [ 2.03312019e+03  2.99590284e+02]\n",
      " [ 1.93593866e+03 -5.05054333e+02]\n",
      " [-7.39072371e+02 -3.09047317e+03]\n",
      " [-1.97576298e+02 -1.95629232e+03]\n",
      " [ 2.68568074e+03  1.84345505e+02]]\n"
     ]
    }
   ],
   "source": [
    "# Your code here:\n",
    "#pca.factors.shape\n",
    "X=np.dot(trans, pca.factors)\n",
    "print(X)\n",
    "\n",
    "#Pregunta: ¿Por qué si lo hago con los parámetros en orden distinto no funciona?"
   ]
  },
  {
   "cell_type": "markdown",
   "metadata": {},
   "source": [
    "# Challenge 3 - Plotting the Data\n",
    "\n",
    "Now that we have reduced our cats and dogs arrays, we can easily plot the data in a way that the human eye can understand. We can look at this plot to see whether there are differences between the cat and dog images. \n",
    "\n",
    "In the cell below, turn the two dimensional projection into a pandas dataframe and name the columns `pc1`, and `pc2` respectively."
   ]
  },
  {
   "cell_type": "code",
   "execution_count": 120,
   "metadata": {},
   "outputs": [
    {
     "data": {
      "text/html": [
       "<div>\n",
       "<style scoped>\n",
       "    .dataframe tbody tr th:only-of-type {\n",
       "        vertical-align: middle;\n",
       "    }\n",
       "\n",
       "    .dataframe tbody tr th {\n",
       "        vertical-align: top;\n",
       "    }\n",
       "\n",
       "    .dataframe thead th {\n",
       "        text-align: right;\n",
       "    }\n",
       "</style>\n",
       "<table border=\"1\" class=\"dataframe\">\n",
       "  <thead>\n",
       "    <tr style=\"text-align: right;\">\n",
       "      <th></th>\n",
       "      <th>pc1</th>\n",
       "      <th>pc2</th>\n",
       "    </tr>\n",
       "  </thead>\n",
       "  <tbody>\n",
       "    <tr>\n",
       "      <th>0</th>\n",
       "      <td>-994.754255</td>\n",
       "      <td>903.485200</td>\n",
       "    </tr>\n",
       "    <tr>\n",
       "      <th>1</th>\n",
       "      <td>-2735.704512</td>\n",
       "      <td>56.175009</td>\n",
       "    </tr>\n",
       "    <tr>\n",
       "      <th>2</th>\n",
       "      <td>4634.589331</td>\n",
       "      <td>361.104631</td>\n",
       "    </tr>\n",
       "    <tr>\n",
       "      <th>3</th>\n",
       "      <td>1761.819875</td>\n",
       "      <td>-57.396657</td>\n",
       "    </tr>\n",
       "    <tr>\n",
       "      <th>4</th>\n",
       "      <td>-1733.774126</td>\n",
       "      <td>1005.641991</td>\n",
       "    </tr>\n",
       "  </tbody>\n",
       "</table>\n",
       "</div>"
      ],
      "text/plain": [
       "           pc1          pc2\n",
       "0  -994.754255   903.485200\n",
       "1 -2735.704512    56.175009\n",
       "2  4634.589331   361.104631\n",
       "3  1761.819875   -57.396657\n",
       "4 -1733.774126  1005.641991"
      ]
     },
     "execution_count": 120,
     "metadata": {},
     "output_type": "execute_result"
    }
   ],
   "source": [
    "# Your code here:\n",
    "df=pd.DataFrame(X, columns=['pc1','pc2'])\n",
    "df.head()"
   ]
  },
  {
   "cell_type": "markdown",
   "metadata": {},
   "source": [
    "Create a labels list. This list will be of size 160. The first 80 elements in the list will be the word `blue`, and the last 80 elements will be `red`. This will ensure that all dog observations will be colored in blue and all cats will be colored in red. Name this list `colors`."
   ]
  },
  {
   "cell_type": "code",
   "execution_count": 124,
   "metadata": {},
   "outputs": [],
   "source": [
    "# Your code here:\n",
    "colors=[]\n",
    "for b in range(80):\n",
    "    colors.append(\"blue\")\n",
    "for r in range(80):\n",
    "    colors.append(\"red\")\n",
    "\n"
   ]
  },
  {
   "cell_type": "markdown",
   "metadata": {},
   "source": [
    "Create a scatter plot of `pc1` and `pc2` below. Use the `colors` list above to color the observations by setting `c=colors`."
   ]
  },
  {
   "cell_type": "code",
   "execution_count": null,
   "metadata": {},
   "outputs": [],
   "source": []
  },
  {
   "cell_type": "code",
   "execution_count": 125,
   "metadata": {},
   "outputs": [
    {
     "data": {
      "text/plain": [
       "<matplotlib.collections.PathCollection at 0x7f0ac913a278>"
      ]
     },
     "execution_count": 125,
     "metadata": {},
     "output_type": "execute_result"
    },
    {
     "data": {
      "image/png": "[encoded data removed]",
      "text/plain": [
       "<Figure size 432x288 with 1 Axes>"
      ]
     },
     "metadata": {
      "needs_background": "light"
     },
     "output_type": "display_data"
    }
   ],
   "source": [
    "# Your code here:\n",
    "plt.scatter(df.pc1,df.pc2, c=colors)"
   ]
  },
  {
   "cell_type": "markdown",
   "metadata": {},
   "source": [
    "Do you see a clear separation between cats and dogs? Write your answer below."
   ]
  },
  {
   "cell_type": "code",
   "execution_count": 18,
   "metadata": {},
   "outputs": [],
   "source": [
    "# Your conclusions here:\n",
    "#Sí, veo que hay una diagonal en el plano y en la parte baja están los rojos y en la alta los azules\n"
   ]
  },
  {
   "cell_type": "code",
   "execution_count": null,
   "metadata": {},
   "outputs": [],
   "source": []
  }
 ],
 "metadata": {
  "kernelspec": {
   "display_name": "Python 3",
   "language": "python",
   "name": "python3"
  },
  "language_info": {
   "codemirror_mode": {
    "name": "ipython",
    "version": 3
   },
   "file_extension": ".py",
   "mimetype": "text/x-python",
   "name": "python",
   "nbconvert_exporter": "python",
   "pygments_lexer": "ipython3",
   "version": "3.7.3"
  }
 },
 "nbformat": 4,
 "nbformat_minor": 2
}
