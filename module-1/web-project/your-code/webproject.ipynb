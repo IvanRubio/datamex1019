{
 "cells": [
  {
   "cell_type": "code",
   "execution_count": 15,
   "metadata": {},
   "outputs": [],
   "source": [
    "import requests\n",
    "import csv\n",
    "from bs4 import BeautifulSoup\n",
    "\n",
    "def preparaDatos(url):\n",
    "    info=[]\n",
    "    html = requests.get(url)\n",
    "    soup = BeautifulSoup(html.text, 'html.parser')\n",
    "    #nombres de los eventos en CDMX...\n",
    "    eventos = soup.find_all('div', attrs={'class': '_1r2d8bf'})\n",
    "    #precios de los eventos en CDMX...\n",
    "    precios = soup.find_all('li', attrs={'class': '_g86r3e'})\n",
    "    for e in eventos:\n",
    "        info.append(e.text)\n",
    "    return info\n",
    "\n",
    "def escribe(lista):\n",
    "    #pasar info al .csv ...\n",
    "    with open('output_web_scraping.csv', 'w', newline='') as myfile:\n",
    "        wr = csv.writer(myfile, quoting=csv.QUOTE_ALL)\n",
    "        wr.writerow(lista)\n",
    "        #csvFile.close()\n",
    "        \n",
    "url = 'https://www.airbnb.com/s/Mexico-City--Mexico-/experiences?refinement_paths%5B%5D=%2Fexperiences&screen_size=small&search_type=search_query'\n",
    "datos=preparaDatos(url)\n",
    "escribe(datos)"
   ]
  },
  {
   "cell_type": "code",
   "execution_count": 11,
   "metadata": {},
   "outputs": [
    {
     "name": "stdout",
     "output_type": "stream",
     "text": [
      "{'emails': [{'email': 'ivan.rubio.gtz@gmail.com', 'verified': False, 'primary': True}], 'id': '338008108493', 'name': 'Iván Rubio', 'first_name': 'Iván', 'last_name': 'Rubio', 'is_public': False, 'image_id': None}\n"
     ]
    }
   ],
   "source": [
    "#3WK4X64LFTY5MQKBZQWA\n",
    "#https://www.eventbriteapi.com/v3/users/me/?token=3WK4X64LFTY5MQKBZQWA\n",
    "import json\n",
    "import requests\n",
    "\n",
    "api_token = '3WK4X64LFTY5MQKBZQWA'\n",
    "api_url_base = 'https://www.eventbriteapi.com/v3/users/me/?token='\n",
    "headers = {'Content-Type': 'application/json',\n",
    "           'Authorization': 'Bearer {0}'.format(api_token)}\n",
    "\n",
    "def get_account_info():\n",
    "    api_url = '{0}account'.format(api_url_base)\n",
    "    response = requests.get(api_url, headers=headers)\n",
    "    if response.status_code == 200:\n",
    "        return json.loads(response.content.decode('utf-8'))\n",
    "    else:\n",
    "        return None\n",
    "        account_info = get_account_info()\n",
    "    \n",
    "print(get_account_info())"
   ]
  }
 ],
 "metadata": {
  "kernelspec": {
   "display_name": "Python 3",
   "language": "python",
   "name": "python3"
  },
  "language_info": {
   "codemirror_mode": {
    "name": "ipython",
    "version": 3
   },
   "file_extension": ".py",
   "mimetype": "text/x-python",
   "name": "python",
   "nbconvert_exporter": "python",
   "pygments_lexer": "ipython3",
   "version": "3.7.3"
  }
 },
 "nbformat": 4,
 "nbformat_minor": 2
}
